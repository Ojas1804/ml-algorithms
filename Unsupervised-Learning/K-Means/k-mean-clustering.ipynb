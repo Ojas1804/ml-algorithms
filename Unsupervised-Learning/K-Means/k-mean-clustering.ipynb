{
 "cells": [
  {
   "cell_type": "code",
   "execution_count": 7,
   "id": "0271e587",
   "metadata": {},
   "outputs": [],
   "source": [
    "from Cluster import Cluster"
   ]
  },
  {
   "cell_type": "code",
   "execution_count": 8,
   "id": "9ecbf541",
   "metadata": {},
   "outputs": [
    {
     "data": {
      "text/plain": [
       "[(2.3333333333333335, 4), (-2.3333333333333335, 2.6666666666666665)]"
      ]
     },
     "execution_count": 8,
     "metadata": {},
     "output_type": "execute_result"
    }
   ],
   "source": [
    "points = [(3, 1), (-1, 3), (2, 7), (2, 4), (-2, -2), (-4, 7)]\n",
    "Cluster.compute_result(points)"
   ]
  }
 ],
 "metadata": {
  "kernelspec": {
   "display_name": "Python 3",
   "language": "python",
   "name": "python3"
  },
  "language_info": {
   "codemirror_mode": {
    "name": "ipython",
    "version": 3
   },
   "file_extension": ".py",
   "mimetype": "text/x-python",
   "name": "python",
   "nbconvert_exporter": "python",
   "pygments_lexer": "ipython3",
   "version": "3.9.1"
  }
 },
 "nbformat": 4,
 "nbformat_minor": 5
}
