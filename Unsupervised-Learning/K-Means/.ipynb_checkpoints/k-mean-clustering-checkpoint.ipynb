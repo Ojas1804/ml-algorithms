{
 "cells": [
  {
   "cell_type": "code",
   "execution_count": 7,
   "id": "0271e587",
   "metadata": {},
   "outputs": [],
   "source": [
    "from math import sqrt\n",
    "\n",
    "class Point(object):\n",
    "\n",
    "    def __init__(self, x, y):\n",
    "        self.x = x\n",
    "        self.y = y\n",
    "            \n",
    "    def __repr__(self):\n",
    "        return \"Point(%d, 0)\"\n",
    "\n",
    "    def distance(self, other):\n",
    "        X = self.x - other.x\n",
    "        Y = self.y - other.y\n",
    "        \n",
    "        X = X*X\n",
    "        Y = Y*Y\n",
    "        \n",
    "        return(sqrt(X + Y))"
   ]
  },
  {
   "cell_type": "code",
   "execution_count": 1,
   "id": "ebfb14db",
   "metadata": {},
   "outputs": [],
   "source": [
    "from statistics import mean\n",
    "\n",
    "class Cluster(object):\n",
    "    def __init__(self, x, y):\n",
    "        self.center = Point(x, y)\n",
    "        self.points = []\n",
    "\n",
    "    def update(self):\n",
    "        if(len(self.points)==0):\n",
    "            pass            \n",
    "        else:\n",
    "            center_x = mean([point.x for point in self.points])\n",
    "            center_y = mean([point.y for point in self.points])\n",
    "            self.center = Point(center_x, center_y)\n",
    "            self.points = []\n",
    "            return self.center\n",
    "\n",
    "    def add_point(self, point):\n",
    "        self.points.append(point)\n",
    "\n",
    "    def __repr__(self):\n",
    "        return str(self.center)"
   ]
  },
  {
   "cell_type": "code",
   "execution_count": 2,
   "id": "763f6b63",
   "metadata": {},
   "outputs": [],
   "source": [
    "def compute_result(points):\n",
    "    points = [Point(*point) for point in points]\n",
    "    a = Cluster(1,0)\n",
    "    b = Cluster(-1,0)\n",
    "    #this represents  the list of points that have beenn assigned previusly to the cluster\n",
    "    a_old = []\n",
    "    b_old = []\n",
    "    for _ in range(10000): # max iterations\n",
    "        for point in points:\n",
    "        #are we closest to the a.centroid vs the b.centroid\n",
    "            if point.distance(a.center) < point.distance(b.center):\n",
    "                a.add_point(point)\n",
    "            else:\n",
    "                b.add_point(point)\n",
    "        if a_old == a.points and b_old == b.points:\n",
    "            break\n",
    "        a_old = a.points\n",
    "        b_old = b.points\n",
    "        a.update()\n",
    "        b.update()\n",
    "    if (a.center.x>b.center.x):\n",
    "        return [(a.center.x,a.center.y), (b.center.x, b.center.y)]\n",
    "    else:\n",
    "        return [(b.center.x,b.center.y), (a.center.x, a.center.y)]"
   ]
  },
  {
   "cell_type": "code",
   "execution_count": 8,
   "id": "9ecbf541",
   "metadata": {},
   "outputs": [
    {
     "data": {
      "text/plain": [
       "[(2.3333333333333335, 4), (-2.3333333333333335, 2.6666666666666665)]"
      ]
     },
     "execution_count": 8,
     "metadata": {},
     "output_type": "execute_result"
    }
   ],
   "source": [
    "points = [(3, 1), (-1, 3), (2, 7), (2, 4), (-2, -2), (-4, 7)]\n",
    "compute_result(points)"
   ]
  },
  {
   "cell_type": "code",
   "execution_count": null,
   "id": "0cfd2706",
   "metadata": {},
   "outputs": [],
   "source": []
  }
 ],
 "metadata": {
  "kernelspec": {
   "display_name": "Python 3",
   "language": "python",
   "name": "python3"
  },
  "language_info": {
   "codemirror_mode": {
    "name": "ipython",
    "version": 3
   },
   "file_extension": ".py",
   "mimetype": "text/x-python",
   "name": "python",
   "nbconvert_exporter": "python",
   "pygments_lexer": "ipython3",
   "version": "3.9.1"
  }
 },
 "nbformat": 4,
 "nbformat_minor": 5
}
