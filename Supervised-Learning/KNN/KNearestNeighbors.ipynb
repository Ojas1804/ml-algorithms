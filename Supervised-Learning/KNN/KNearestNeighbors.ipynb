{
 "cells": [
  {
   "cell_type": "code",
   "execution_count": 1,
   "id": "b8c44f74",
   "metadata": {},
   "outputs": [],
   "source": [
    "import numpy as np\n",
    "import pandas as pd\n",
    "from collections import Counter "
   ]
  },
  {
   "cell_type": "code",
   "execution_count": 2,
   "id": "6da55566",
   "metadata": {},
   "outputs": [],
   "source": [
    "class KNearestNeighbors:\n",
    "    def __init__(self, k = 5):\n",
    "        self.k = k\n",
    "\n",
    "\n",
    "    def predict(self, X_pred):\n",
    "        y_pred = []\n",
    "        for x in X_pred:\n",
    "            y_pred.append(self._predict(x))\n",
    "        return np.array(y_pred)\n",
    "\n",
    "\n",
    "    def _predict(self, x):\n",
    "        distance = []\n",
    "        for x_train in self.X_train:\n",
    "            distance.append(self.eucledian_distance(x, x_train))\n",
    "        distance = np.array(distance)\n",
    "\n",
    "        indices = np.argsort(distance)\n",
    "        k_indices = indices[: self.k]\n",
    "        k_neighbors = []\n",
    "        \n",
    "        for i in k_indices:\n",
    "            k_neighbors.append(self.y_train[i])\n",
    "        most_common_label = Counter(k_neighbors).most_common(1)\n",
    "        return most_common_label[0][0]\n",
    "\n",
    "\n",
    "    def eucledian_distance(self, x1, x2):\n",
    "        return np.sqrt(np.sum((x1 - x2)**2))\n",
    "\n",
    "\n",
    "    def train(self, X, y, normalize = False):\n",
    "        self.X_train = X\n",
    "        self.y_train = y\n",
    "        self.normailze = normalize\n",
    "        if(normalize):\n",
    "            self.X_train = normalize(X_train)\n",
    "\n",
    "\n",
    "    def accuracy(self, y_pred, y_test):\n",
    "        correct_predictions = 0\n",
    "        for (y1, y2) in zip(y_pred, y_test):\n",
    "            if(y1 == y2):\n",
    "                correct_predictions += 1\n",
    "        return (correct_predictions / len(y_test) * 100)"
   ]
  },
  {
   "cell_type": "code",
   "execution_count": 6,
   "id": "50706982",
   "metadata": {},
   "outputs": [],
   "source": [
    "def split_dataset(X, y, percentage_split):\n",
    "    r_split = int(X.shape[0] * percentage_split)\n",
    "    X_test = X[: r_split]\n",
    "    X_train = X[r_split : X.shape[0]]\n",
    "\n",
    "    y_test = y[: r_split]\n",
    "    y_train = y[r_split : X.shape[0]]\n",
    "\n",
    "    return X_train, X_test, y_train, y_test"
   ]
  },
  {
   "cell_type": "code",
   "execution_count": 11,
   "id": "70d8f463",
   "metadata": {},
   "outputs": [],
   "source": [
    "from sklearn import datasets\n",
    "from sklearn.model_selection import train_test_split \n",
    "\n",
    "def main():\n",
    "    iris_dataset = datasets.load_iris()\n",
    "    X = iris_dataset.data\n",
    "    y = iris_dataset.target\n",
    "\n",
    "    X_train, X_test, y_train, y_test = train_test_split(X, y, test_size = 0.3, random_state = 42)\n",
    "#     X_train, X_test, y_train, y_test = split_dataset(X, y, 0.3)\n",
    "\n",
    "    knn = KNearestNeighbors(8)\n",
    "    knn.train(X_train, y_train)\n",
    "    y_pred = knn.predict(X_test)\n",
    "    print(knn.accuracy(y_pred, y_test))"
   ]
  },
  {
   "cell_type": "code",
   "execution_count": 12,
   "id": "c73509c5",
   "metadata": {},
   "outputs": [
    {
     "name": "stdout",
     "output_type": "stream",
     "text": [
      "100.0\n"
     ]
    }
   ],
   "source": [
    "if __name__ == \"__main__\":\n",
    "    main()"
   ]
  },
  {
   "cell_type": "code",
   "execution_count": null,
   "id": "3569dfda",
   "metadata": {},
   "outputs": [],
   "source": []
  }
 ],
 "metadata": {
  "kernelspec": {
   "display_name": "base",
   "language": "python",
   "name": "base"
  },
  "language_info": {
   "codemirror_mode": {
    "name": "ipython",
    "version": 3
   },
   "file_extension": ".py",
   "mimetype": "text/x-python",
   "name": "python",
   "nbconvert_exporter": "python",
   "pygments_lexer": "ipython3",
   "version": "3.8.10"
  }
 },
 "nbformat": 4,
 "nbformat_minor": 5
}
