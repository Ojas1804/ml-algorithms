{
 "cells": [
  {
   "cell_type": "code",
   "execution_count": 4,
   "id": "50706982",
   "metadata": {},
   "outputs": [],
   "source": [
    "from KNearestNeighbors import KNearestNeighbors\n",
    "\n",
    "def split_dataset(X, y, percentage_split):\n",
    "    r_split = int(X.shape[0] * percentage_split)\n",
    "    X_test = X[: r_split]\n",
    "    X_train = X[r_split : X.shape[0]]\n",
    "\n",
    "    y_test = y[: r_split]\n",
    "    y_train = y[r_split : X.shape[0]]\n",
    "\n",
    "    return X_train, X_test, y_train, y_test"
   ]
  },
  {
   "cell_type": "code",
   "execution_count": 5,
   "id": "70d8f463",
   "metadata": {},
   "outputs": [],
   "source": [
    "from sklearn import datasets\n",
    "from sklearn.model_selection import train_test_split \n",
    "\n",
    "def main():\n",
    "    iris_dataset = datasets.load_iris()\n",
    "    X = iris_dataset.data\n",
    "    y = iris_dataset.target\n",
    "\n",
    "    X_train, X_test, y_train, y_test = train_test_split(X, y, test_size = 0.3, random_state = 42)\n",
    "#     X_train, X_test, y_train, y_test = split_dataset(X, y, 0.3)\n",
    "\n",
    "    knn = KNearestNeighbors(8)\n",
    "    knn.train(X_train, y_train)\n",
    "    y_pred = knn.predict(X_test)\n",
    "    print(knn.accuracy(y_pred, y_test))"
   ]
  },
  {
   "cell_type": "code",
   "execution_count": 6,
   "id": "c73509c5",
   "metadata": {},
   "outputs": [
    {
     "name": "stdout",
     "output_type": "stream",
     "text": [
      "100.0\n"
     ]
    }
   ],
   "source": [
    "if __name__ == \"__main__\":\n",
    "    main()"
   ]
  }
 ],
 "metadata": {
  "kernelspec": {
   "display_name": "base",
   "language": "python",
   "name": "base"
  },
  "language_info": {
   "codemirror_mode": {
    "name": "ipython",
    "version": 3
   },
   "file_extension": ".py",
   "mimetype": "text/x-python",
   "name": "python",
   "nbconvert_exporter": "python",
   "pygments_lexer": "ipython3",
   "version": "3.8.10"
  }
 },
 "nbformat": 4,
 "nbformat_minor": 5
}
