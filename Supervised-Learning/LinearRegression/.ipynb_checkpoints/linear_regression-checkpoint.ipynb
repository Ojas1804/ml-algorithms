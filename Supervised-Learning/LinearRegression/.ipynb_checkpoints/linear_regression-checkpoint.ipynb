{
 "cells": [
  {
   "cell_type": "code",
   "execution_count": 3,
   "id": "4a8ff46f",
   "metadata": {},
   "outputs": [],
   "source": [
    "import numpy as np\n",
    "import pandas as pd\n",
    "import matplotlib.pyplot as plt\n",
    "import seaborn as sns"
   ]
  },
  {
   "cell_type": "code",
   "execution_count": 4,
   "id": "0a3d35ed",
   "metadata": {},
   "outputs": [],
   "source": [
    "housing = pd.read_csv(\"USA_Housing.csv\")\n",
    "housing.drop(columns = \"Address\", inplace = True)"
   ]
  },
  {
   "cell_type": "code",
   "execution_count": 5,
   "id": "b7d2f87f",
   "metadata": {},
   "outputs": [
    {
     "data": {
      "text/html": [
       "<div>\n",
       "<style scoped>\n",
       "    .dataframe tbody tr th:only-of-type {\n",
       "        vertical-align: middle;\n",
       "    }\n",
       "\n",
       "    .dataframe tbody tr th {\n",
       "        vertical-align: top;\n",
       "    }\n",
       "\n",
       "    .dataframe thead th {\n",
       "        text-align: right;\n",
       "    }\n",
       "</style>\n",
       "<table border=\"1\" class=\"dataframe\">\n",
       "  <thead>\n",
       "    <tr style=\"text-align: right;\">\n",
       "      <th></th>\n",
       "      <th>Avg. Area Income</th>\n",
       "      <th>Avg. Area House Age</th>\n",
       "      <th>Avg. Area Number of Rooms</th>\n",
       "      <th>Avg. Area Number of Bedrooms</th>\n",
       "      <th>Area Population</th>\n",
       "      <th>Price</th>\n",
       "    </tr>\n",
       "  </thead>\n",
       "  <tbody>\n",
       "    <tr>\n",
       "      <th>0</th>\n",
       "      <td>79545.458574</td>\n",
       "      <td>5.682861</td>\n",
       "      <td>7.009188</td>\n",
       "      <td>4.09</td>\n",
       "      <td>23086.800503</td>\n",
       "      <td>1.059034e+06</td>\n",
       "    </tr>\n",
       "    <tr>\n",
       "      <th>1</th>\n",
       "      <td>79248.642455</td>\n",
       "      <td>6.002900</td>\n",
       "      <td>6.730821</td>\n",
       "      <td>3.09</td>\n",
       "      <td>40173.072174</td>\n",
       "      <td>1.505891e+06</td>\n",
       "    </tr>\n",
       "    <tr>\n",
       "      <th>2</th>\n",
       "      <td>61287.067179</td>\n",
       "      <td>5.865890</td>\n",
       "      <td>8.512727</td>\n",
       "      <td>5.13</td>\n",
       "      <td>36882.159400</td>\n",
       "      <td>1.058988e+06</td>\n",
       "    </tr>\n",
       "    <tr>\n",
       "      <th>3</th>\n",
       "      <td>63345.240046</td>\n",
       "      <td>7.188236</td>\n",
       "      <td>5.586729</td>\n",
       "      <td>3.26</td>\n",
       "      <td>34310.242831</td>\n",
       "      <td>1.260617e+06</td>\n",
       "    </tr>\n",
       "    <tr>\n",
       "      <th>4</th>\n",
       "      <td>59982.197226</td>\n",
       "      <td>5.040555</td>\n",
       "      <td>7.839388</td>\n",
       "      <td>4.23</td>\n",
       "      <td>26354.109472</td>\n",
       "      <td>6.309435e+05</td>\n",
       "    </tr>\n",
       "    <tr>\n",
       "      <th>5</th>\n",
       "      <td>80175.754159</td>\n",
       "      <td>4.988408</td>\n",
       "      <td>6.104512</td>\n",
       "      <td>4.04</td>\n",
       "      <td>26748.428425</td>\n",
       "      <td>1.068138e+06</td>\n",
       "    </tr>\n",
       "    <tr>\n",
       "      <th>6</th>\n",
       "      <td>64698.463428</td>\n",
       "      <td>6.025336</td>\n",
       "      <td>8.147760</td>\n",
       "      <td>3.41</td>\n",
       "      <td>60828.249085</td>\n",
       "      <td>1.502056e+06</td>\n",
       "    </tr>\n",
       "    <tr>\n",
       "      <th>7</th>\n",
       "      <td>78394.339278</td>\n",
       "      <td>6.989780</td>\n",
       "      <td>6.620478</td>\n",
       "      <td>2.42</td>\n",
       "      <td>36516.358972</td>\n",
       "      <td>1.573937e+06</td>\n",
       "    </tr>\n",
       "    <tr>\n",
       "      <th>8</th>\n",
       "      <td>59927.660813</td>\n",
       "      <td>5.362126</td>\n",
       "      <td>6.393121</td>\n",
       "      <td>2.30</td>\n",
       "      <td>29387.396003</td>\n",
       "      <td>7.988695e+05</td>\n",
       "    </tr>\n",
       "    <tr>\n",
       "      <th>9</th>\n",
       "      <td>81885.927184</td>\n",
       "      <td>4.423672</td>\n",
       "      <td>8.167688</td>\n",
       "      <td>6.10</td>\n",
       "      <td>40149.965749</td>\n",
       "      <td>1.545155e+06</td>\n",
       "    </tr>\n",
       "  </tbody>\n",
       "</table>\n",
       "</div>"
      ],
      "text/plain": [
       "   Avg. Area Income  Avg. Area House Age  Avg. Area Number of Rooms  \\\n",
       "0      79545.458574             5.682861                   7.009188   \n",
       "1      79248.642455             6.002900                   6.730821   \n",
       "2      61287.067179             5.865890                   8.512727   \n",
       "3      63345.240046             7.188236                   5.586729   \n",
       "4      59982.197226             5.040555                   7.839388   \n",
       "5      80175.754159             4.988408                   6.104512   \n",
       "6      64698.463428             6.025336                   8.147760   \n",
       "7      78394.339278             6.989780                   6.620478   \n",
       "8      59927.660813             5.362126                   6.393121   \n",
       "9      81885.927184             4.423672                   8.167688   \n",
       "\n",
       "   Avg. Area Number of Bedrooms  Area Population         Price  \n",
       "0                          4.09     23086.800503  1.059034e+06  \n",
       "1                          3.09     40173.072174  1.505891e+06  \n",
       "2                          5.13     36882.159400  1.058988e+06  \n",
       "3                          3.26     34310.242831  1.260617e+06  \n",
       "4                          4.23     26354.109472  6.309435e+05  \n",
       "5                          4.04     26748.428425  1.068138e+06  \n",
       "6                          3.41     60828.249085  1.502056e+06  \n",
       "7                          2.42     36516.358972  1.573937e+06  \n",
       "8                          2.30     29387.396003  7.988695e+05  \n",
       "9                          6.10     40149.965749  1.545155e+06  "
      ]
     },
     "execution_count": 5,
     "metadata": {},
     "output_type": "execute_result"
    }
   ],
   "source": [
    "housing.head(10)"
   ]
  },
  {
   "cell_type": "code",
   "execution_count": 6,
   "id": "e9c23142",
   "metadata": {},
   "outputs": [
    {
     "name": "stdout",
     "output_type": "stream",
     "text": [
      "<class 'pandas.core.frame.DataFrame'>\n",
      "RangeIndex: 5000 entries, 0 to 4999\n",
      "Data columns (total 6 columns):\n",
      " #   Column                        Non-Null Count  Dtype  \n",
      "---  ------                        --------------  -----  \n",
      " 0   Avg. Area Income              5000 non-null   float64\n",
      " 1   Avg. Area House Age           5000 non-null   float64\n",
      " 2   Avg. Area Number of Rooms     5000 non-null   float64\n",
      " 3   Avg. Area Number of Bedrooms  5000 non-null   float64\n",
      " 4   Area Population               5000 non-null   float64\n",
      " 5   Price                         5000 non-null   float64\n",
      "dtypes: float64(6)\n",
      "memory usage: 234.5 KB\n"
     ]
    }
   ],
   "source": [
    "housing.info()"
   ]
  },
  {
   "cell_type": "code",
   "execution_count": 7,
   "id": "f23328ca",
   "metadata": {},
   "outputs": [],
   "source": [
    "# X = housing[0 : 1000]['Avg. Area Income']\n",
    "# y = housing[0 : 1000]['Price']\n",
    "# sns.set()\n",
    "# _ = plt.scatter(X, y)\n",
    "# plt.show()"
   ]
  },
  {
   "cell_type": "code",
   "execution_count": 8,
   "id": "ef7c2647",
   "metadata": {},
   "outputs": [],
   "source": [
    "class LinearRegression:\n",
    "    def __init__(self, learning_rate = 0.001, iterations = 100):\n",
    "        self.learning_rate = learning_rate\n",
    "        self.iterations = iterations\n",
    "        self.bias = None\n",
    "        self.weight = None\n",
    "        \n",
    "        \n",
    "    def fit(self, X_train, y_train):\n",
    "        self.X = X_train\n",
    "        self.y = y_train\n",
    "        \n",
    "        self.weight = np.zeros(X_train.shape[1])\n",
    "        self.bias = 0\n",
    "        \n",
    "        for i in range(self.iterations):\n",
    "            y_pred = np.dot(X_train, self.weight) + self.bias\n",
    "#             print(y_pred.shape, y_train.shape)\n",
    "            \n",
    "            dw = (1 / X_train.shape[0]) * (np.dot(X_train.T, (y_pred - y_train)))\n",
    "            db = (1 / X_train.shape[0]) * (np.sum(y_pred - y_train))\n",
    "            \n",
    "            self.weight -= self.learning_rate * dw\n",
    "            self.bias -= self.learning_rate * db\n",
    "    \n",
    "    \n",
    "    def predict(self, X):\n",
    "        y_pred = np.dot(X, self.weight) + self.bias\n",
    "        return y_pred\n",
    "    \n",
    "    \n",
    "    def accuracy(self, y_test, y_pred):\n",
    "        correct_predictions = 0\n",
    "        for (y1, y2) in zip(y_pred, y_test):\n",
    "            if(y1 == y2):\n",
    "                correct_predictions += 1\n",
    "        return (correct_predictions / len(y_test) * 100)"
   ]
  },
  {
   "cell_type": "code",
   "execution_count": 9,
   "id": "50131f5e",
   "metadata": {},
   "outputs": [],
   "source": [
    "from sklearn.model_selection import train_test_split\n",
    "def main():\n",
    "    X = housing.iloc[:1000 , :-1]\n",
    "    y = housing.iloc[:1000 , -1]\n",
    "    \n",
    "    X_train, X_test, y_train, y_test = train_test_split(X, y, random_state = 42, test_size = 0.25)\n",
    "    print(X_train.shape, y_train.shape)\n",
    "    print(y_train)\n",
    "    lr = LinearRegression()\n",
    "    lr.fit(X_train, y_train)\n",
    "    \n",
    "    y_pred = lr.predict(X_test)\n",
    "#     for (y1, y2) in zip(y_pred, y_test):\n",
    "#         print(f\"{y1} -> {y2}\\n\")\n",
    "    print(\"Accuracy = \", lr.accuracy(y_test, y_pred))\n",
    "    _ = plt.plot(X_test, y_pred, color = 'Red')\n",
    "    _ = plt.plot(X_test, y_test, colou = 'B')\n",
    "    plt.show()"
   ]
  },
  {
   "cell_type": "code",
   "execution_count": 10,
   "id": "c7c96515",
   "metadata": {},
   "outputs": [
    {
     "name": "stdout",
     "output_type": "stream",
     "text": [
      "(750, 5) (750,)\n",
      "82     1.102821e+06\n",
      "991    1.529029e+06\n",
      "789    8.008091e+05\n",
      "894    1.655467e+06\n",
      "398    8.942511e+05\n",
      "           ...     \n",
      "106    1.555321e+06\n",
      "270    1.338044e+06\n",
      "860    1.060898e+06\n",
      "435    7.648605e+05\n",
      "102    1.783535e+06\n",
      "Name: Price, Length: 750, dtype: float64\n",
      "Accuracy =  0.0\n"
     ]
    },
    {
     "name": "stderr",
     "output_type": "stream",
     "text": [
      "<ipython-input-8-88fb09a9b941>:23: RuntimeWarning: invalid value encountered in subtract\n",
      "  self.weight -= self.learning_rate * dw\n"
     ]
    },
    {
     "data": {
      "image/png": "[encoded data removed]",
      "text/plain": [
       "<Figure size 432x288 with 1 Axes>"
      ]
     },
     "metadata": {
      "needs_background": "light"
     },
     "output_type": "display_data"
    }
   ],
   "source": [
    "if __name__ == \"__main__\":\n",
    "    main()"
   ]
  },
  {
   "cell_type": "code",
   "execution_count": null,
   "id": "95decd10",
   "metadata": {},
   "outputs": [],
   "source": []
  }
 ],
 "metadata": {
  "kernelspec": {
   "display_name": "base",
   "language": "python",
   "name": "base"
  },
  "language_info": {
   "codemirror_mode": {
    "name": "ipython",
    "version": 3
   },
   "file_extension": ".py",
   "mimetype": "text/x-python",
   "name": "python",
   "nbconvert_exporter": "python",
   "pygments_lexer": "ipython3",
   "version": "3.8.10"
  }
 },
 "nbformat": 4,
 "nbformat_minor": 5
}
